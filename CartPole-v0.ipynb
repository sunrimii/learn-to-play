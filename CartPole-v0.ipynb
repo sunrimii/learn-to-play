{
 "cells": [
  {
   "cell_type": "markdown",
   "metadata": {},
   "source": [
    "監督式學習實現"
   ]
  },
  {
   "cell_type": "code",
   "execution_count": 1,
   "metadata": {},
   "outputs": [],
   "source": [
    "import gym\n",
    "\n",
    "\n",
    "LEFT = (1, 0)\n",
    "RIGHT = (0, 1)\n",
    "\n",
    "\n",
    "env = gym.make('CartPole-v0')"
   ]
  },
  {
   "cell_type": "code",
   "execution_count": 2,
   "metadata": {
    "scrolled": true
   },
   "outputs": [
    {
     "name": "stdout",
     "output_type": "stream",
     "text": [
      "從不斷隨機嘗試中, 產生了788筆至少達到100分的訓練集\n"
     ]
    }
   ],
   "source": [
    "episodes = 10000\n",
    "excepted_score = 100\n",
    "\n",
    "train_x = []\n",
    "train_y = []\n",
    "\n",
    "for _ in range(episodes):\n",
    "    observation = env.reset()\n",
    "    \n",
    "    x = []\n",
    "    y = []\n",
    "    \n",
    "    score = 0\n",
    "    \n",
    "    while True:\n",
    "        action = env.action_space.sample()\n",
    "\n",
    "        x.append(observation.tolist())\n",
    "        y.append(LEFT if action == 0 else RIGHT)\n",
    "        \n",
    "        observation, reward, done, _ = env.step(action)\n",
    "\n",
    "        score += reward\n",
    "        \n",
    "        if done:\n",
    "            if score >= excepted_score:\n",
    "                train_x.extend(x)\n",
    "                train_y.extend(y)\n",
    "            \n",
    "            break\n",
    "\n",
    "print(f\"從不斷隨機嘗試中, 產生了{len(train_x)}筆至少達到{excepted_score}分的訓練集\")"
   ]
  },
  {
   "cell_type": "code",
   "execution_count": 3,
   "metadata": {},
   "outputs": [
    {
     "name": "stdout",
     "output_type": "stream",
     "text": [
      "Epoch 1/10\n",
      "25/25 [==============================] - 0s 998us/step - loss: 0.3656 - acc: 0.5571\n",
      "Epoch 2/10\n",
      "25/25 [==============================] - 0s 997us/step - loss: 0.2580 - acc: 0.6028\n",
      "Epoch 3/10\n",
      "25/25 [==============================] - 0s 997us/step - loss: 0.2447 - acc: 0.6003\n",
      "Epoch 4/10\n",
      "25/25 [==============================] - 0s 960us/step - loss: 0.2474 - acc: 0.6028\n",
      "Epoch 5/10\n",
      "25/25 [==============================] - 0s 957us/step - loss: 0.2395 - acc: 0.5964\n",
      "Epoch 6/10\n",
      "25/25 [==============================] - 0s 918us/step - loss: 0.2400 - acc: 0.6041\n",
      "Epoch 7/10\n",
      "25/25 [==============================] - 0s 838us/step - loss: 0.2297 - acc: 0.6129\n",
      "Epoch 8/10\n",
      "25/25 [==============================] - 0s 917us/step - loss: 0.2390 - acc: 0.5964\n",
      "Epoch 9/10\n",
      "25/25 [==============================] - 0s 958us/step - loss: 0.2308 - acc: 0.6180\n",
      "Epoch 10/10\n",
      "25/25 [==============================] - 0s 957us/step - loss: 0.2340 - acc: 0.6091\n"
     ]
    },
    {
     "data": {
      "text/plain": [
       "<tensorflow.python.keras.callbacks.History at 0x27bc7719f40>"
      ]
     },
     "execution_count": 3,
     "metadata": {},
     "output_type": "execute_result"
    }
   ],
   "source": [
    "import tensorflow as tf\n",
    "\n",
    "\n",
    "model = tf.keras.models.Sequential([\n",
    "    tf.keras.layers.Dense(256, activation='selu'),\n",
    "    tf.keras.layers.Dense(128, activation='selu'),\n",
    "    tf.keras.layers.Dense(2),\n",
    "])\n",
    "model.compile(optimizer='adam', \n",
    "              loss='mse', # mse效果優於ce\n",
    "              metrics=['acc'])\n",
    "model.fit(train_x, train_y, epochs=10)"
   ]
  },
  {
   "cell_type": "code",
   "execution_count": 4,
   "metadata": {
    "scrolled": true
   },
   "outputs": [
    {
     "name": "stdout",
     "output_type": "stream",
     "text": [
      "得分: 159/200\n"
     ]
    }
   ],
   "source": [
    "import time\n",
    "\n",
    "\n",
    "observation = env.reset() # observation.ndim = (4, )\n",
    "\n",
    "score = 0\n",
    "\n",
    "while True:\n",
    "    observation = observation.reshape(1, 4)\n",
    "    action = model.predict(observation) # action.ndim = (1, 2)\n",
    "    action = action[0].argmax()\n",
    "    observation, reward, done, _ = env.step(action)\n",
    "    \n",
    "    score += reward\n",
    "    \n",
    "    env.render()\n",
    "    time.sleep(0.001)\n",
    "    \n",
    "    if done:\n",
    "        print(f\"得分: {int(score)}/200\")\n",
    "        break\n",
    "\n",
    "env.close()"
   ]
  }
 ],
 "metadata": {
  "kernelspec": {
   "display_name": "Python 3.8.1 64-bit",
   "language": "python",
   "name": "python38164bit7c34b89357aa4b6d86f880d1ca073f9f"
  },
  "language_info": {
   "codemirror_mode": {
    "name": "ipython",
    "version": 3
   },
   "file_extension": ".py",
   "mimetype": "text/x-python",
   "name": "python",
   "nbconvert_exporter": "python",
   "pygments_lexer": "ipython3",
   "version": "3.8.1"
  }
 },
 "nbformat": 4,
 "nbformat_minor": 4
}
