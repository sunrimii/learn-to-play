{
 "cells": [
  {
   "cell_type": "code",
   "execution_count": 2,
   "metadata": {},
   "outputs": [],
   "source": [
    "import gym\n",
    "import numpy as np\n",
    "\n",
    "\n",
    "env = gym.make('MountainCar-v0')"
   ]
  },
  {
   "cell_type": "markdown",
   "metadata": {},
   "source": [
    "Q learning實現\n",
    "\n",
    "初期隨機猜測動作\n",
    "逐漸建立Q表\n",
    "後期再從Q表選擇動作\n",
    "\n",
    "由於位置是連續數據\n",
    "會導致無限的狀態需要紀錄\n",
    "因此將連續映射至整數空間內"
   ]
  },
  {
   "cell_type": "code",
   "execution_count": 106,
   "metadata": {},
   "outputs": [],
   "source": [
    "scale = 100\n",
    "\n",
    "max_pos, max_speed = env.observation_space.high\n",
    "min_pos, min_speed = env.observation_space.low\n",
    "\n",
    "def rescale(observation):\n",
    "    \"\"\"從環境的值域映射至0~scale的整數域\"\"\"\n",
    "    pos, speed = observation\n",
    "    \n",
    "    pos = scale * (pos-min_pos) / (max_pos-min_pos)\n",
    "    speed = scale * (speed-min_speed) / (max_speed-min_speed)\n",
    "    \n",
    "    return round(pos), round(speed)"
   ]
  },
  {
   "cell_type": "code",
   "execution_count": 20,
   "metadata": {
    "scrolled": true
   },
   "outputs": [
    {
     "name": "stdout",
     "output_type": "stream",
     "text": [
      "episode: 0 max_score:0\n",
      "episode: 500 max_score:0\n",
      "episode: 1000 max_score:0\n",
      "episode: 1500 max_score:0\n",
      "episode: 2000 max_score:38.0\n",
      "episode: 2500 max_score:39.0\n",
      "episode: 3000 max_score:44.0\n",
      "episode: 3500 max_score:47.0\n",
      "episode: 4000 max_score:48.0\n",
      "episode: 4500 max_score:49.0\n",
      "episode: 5000 max_score:49.0\n",
      "episode: 5500 max_score:79.0\n",
      "episode: 6000 max_score:79.0\n",
      "episode: 6500 max_score:84.0\n",
      "episode: 7000 max_score:84.0\n",
      "episode: 7500 max_score:84.0\n",
      "episode: 8000 max_score:84.0\n",
      "episode: 8500 max_score:84.0\n",
      "episode: 9000 max_score:87.0\n",
      "episode: 9500 max_score:88.0\n",
      "episode: 10000 max_score:88.0\n"
     ]
    }
   ],
   "source": [
    "lr = .9\n",
    "discount = .9\n",
    "\n",
    "episodes = 10000 # 訓練次數\n",
    "\n",
    "from collections import defaultdict\n",
    "Q = defaultdict(lambda: [0, 0, 0]) #{[, , ], ..., [, , ]}\n",
    "\n",
    "max_score = 0\n",
    "\n",
    "for episode in range(episodes + 1):\n",
    "    observation = env.reset()\n",
    "    observation = rescale(observation)\n",
    "    \n",
    "    score = 200\n",
    "    \n",
    "    while True:\n",
    "        action = np.argmax(Q[observation])\n",
    "        # 學習初期隨機選擇動作\n",
    "        if episode < 100:\n",
    "            action = env.action_space.sample()\n",
    "\n",
    "            \n",
    "        next_observation, reward, done, _ = env.step(action)\n",
    "        next_observation = rescale(next_observation)\n",
    "            \n",
    "        Q[observation][action] = (1-lr)*Q[observation][action] + lr*(reward+discount*max(Q[next_observation]))\n",
    "        \n",
    "        observation = next_observation\n",
    "        \n",
    "        score += reward\n",
    "        \n",
    "        if done:\n",
    "            max_score = max(max_score, score)\n",
    "            if episode % 500 == 0:\n",
    "                print(f\"episode: {episode} max_score:{max_score}\")\n",
    "            break"
   ]
  },
  {
   "cell_type": "code",
   "execution_count": 101,
   "metadata": {
    "scrolled": true
   },
   "outputs": [
    {
     "name": "stdout",
     "output_type": "stream",
     "text": [
      "score: 74/200\n"
     ]
    }
   ],
   "source": [
    "import time\n",
    "\n",
    "\n",
    "observation = env.reset()\n",
    "\n",
    "score = 200\n",
    "\n",
    "while True:\n",
    "    observation = rescale(observation)\n",
    "    \n",
    "    action = np.argmax(Q[observation])\n",
    "    observation, reward, done, _ = env.step(action)\n",
    "    \n",
    "    score += reward\n",
    "    \n",
    "    env.render()\n",
    "    time.sleep(0.01)\n",
    "    \n",
    "    if done:\n",
    "        print(f\"score: {int(score)}/200\")\n",
    "        break\n",
    "env.close()"
   ]
  },
  {
   "cell_type": "markdown",
   "metadata": {},
   "source": [
    "DQN實現\n",
    "\n",
    "將上面的Q表\n",
    "從字典改為神經網路\n",
    "可改進狀態有無限種需要紀錄的問題"
   ]
  },
  {
   "cell_type": "code",
   "execution_count": 151,
   "metadata": {},
   "outputs": [],
   "source": [
    "import tensorflow as tf\n",
    "\n",
    "\n",
    "model = tf.keras.models.Sequential([\n",
    "    tf.keras.layers.Dense(2, activation='sigmoid', input_shape=(2, )),\n",
    "    tf.keras.layers.BatchNormalization(),\n",
    "    tf.keras.layers.Dense(128, activation='sigmoid'),\n",
    "    tf.keras.layers.BatchNormalization(),\n",
    "    tf.keras.layers.Dense(3)\n",
    "])\n",
    "model.compile(optimizer='adam', \n",
    "              loss='mse', \n",
    "              metrics=['acc'])"
   ]
  },
  {
   "cell_type": "code",
   "execution_count": 150,
   "metadata": {},
   "outputs": [],
   "source": [
    "def back_rescale(observation):\n",
    "    \"\"\"從0~scale間的整數域映射回原環境的值域\"\"\"\n",
    "    pos, speed = observation\n",
    "    \n",
    "    pos = pos * (max_pos - min_pos) / scale + min_pos\n",
    "    speed = speed * (max_speed-min_speed) / scale + min_speed\n",
    "    \n",
    "    return pos, speed"
   ]
  },
  {
   "cell_type": "code",
   "execution_count": 128,
   "metadata": {},
   "outputs": [],
   "source": [
    "# Q表整理成訓練集\n",
    "x = [back_rescale(observation) for observation in Q]\n",
    "y = list(Q.values())"
   ]
  },
  {
   "cell_type": "code",
   "execution_count": 152,
   "metadata": {
    "scrolled": true
   },
   "outputs": [
    {
     "name": "stdout",
     "output_type": "stream",
     "text": [
      "Epoch 1/5\n",
      "224/224 [==============================] - 0s 801us/step - loss: 45.1974 - acc: 0.3199\n",
      "Epoch 2/5\n",
      "224/224 [==============================] - 0s 890us/step - loss: 4.2716 - acc: 0.3827\n",
      "Epoch 3/5\n",
      "224/224 [==============================] - 0s 993us/step - loss: 3.9023 - acc: 0.4542\n",
      "Epoch 4/5\n",
      "224/224 [==============================] - 0s 761us/step - loss: 3.7900 - acc: 0.5006\n",
      "Epoch 5/5\n",
      "224/224 [==============================] - 0s 770us/step - loss: 3.7340 - acc: 0.5030\n"
     ]
    },
    {
     "data": {
      "text/plain": [
       "<tensorflow.python.keras.callbacks.History at 0x1594cf2c100>"
      ]
     },
     "execution_count": 152,
     "metadata": {},
     "output_type": "execute_result"
    }
   ],
   "source": [
    "model.fit(x, y, epochs=5)"
   ]
  },
  {
   "cell_type": "code",
   "execution_count": 153,
   "metadata": {},
   "outputs": [
    {
     "name": "stdout",
     "output_type": "stream",
     "text": [
      "score: 83/200\n"
     ]
    }
   ],
   "source": [
    "import time\n",
    "\n",
    "\n",
    "observation = env.reset()\n",
    "\n",
    "score = 200\n",
    "\n",
    "while True:\n",
    "    action = model.predict(observation.reshape(1,2)).argmax()\n",
    "    observation, reward, done, _ = env.step(action)\n",
    "    \n",
    "    score += reward\n",
    "    \n",
    "    env.render()\n",
    "    time.sleep(0.01)\n",
    "    \n",
    "    if done:\n",
    "        print(f\"score: {int(score)}/200\")\n",
    "        break\n",
    "env.close()"
   ]
  },
  {
   "cell_type": "code",
   "execution_count": null,
   "metadata": {},
   "outputs": [],
   "source": []
  }
 ],
 "metadata": {
  "kernelspec": {
   "display_name": "Python 3.8.1 64-bit",
   "language": "python",
   "name": "python38164bit7c34b89357aa4b6d86f880d1ca073f9f"
  },
  "language_info": {
   "codemirror_mode": {
    "name": "ipython",
    "version": 3
   },
   "file_extension": ".py",
   "mimetype": "text/x-python",
   "name": "python",
   "nbconvert_exporter": "python",
   "pygments_lexer": "ipython3",
   "version": "3.8.1"
  }
 },
 "nbformat": 4,
 "nbformat_minor": 4
}
